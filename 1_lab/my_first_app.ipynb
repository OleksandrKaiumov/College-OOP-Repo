{
 "cells": [
  {
   "cell_type": "code",
   "execution_count": 3,
   "id": "988e2548",
   "metadata": {},
   "outputs": [
    {
     "name": "stdout",
     "output_type": "stream",
     "text": [
      "Oleksandr start programming at 2025-09-10 00:03:28.449047. Lviv is the best city!\n"
     ]
    }
   ],
   "source": [
    "from datetime import datetime\n",
    "name = \"Oleksandr\"\n",
    "location = \"Lviv\"\n",
    "\n",
    "print(f\"{name} start programming at {datetime.now()}. {location} is the best city!\")"
   ]
  },
  {
   "cell_type": "markdown",
   "id": "ae322b14",
   "metadata": {},
   "source": [
    "Що робить код:\n",
    "\n",
    "1. **`from datetime import datetime`**\n",
    "   Імпортує клас `datetime` з модуля `datetime`. Він дозволяє працювати з датою та часом.\n",
    "\n",
    "2. **`name = \"Oleksandr\"`**\n",
    "   Створює змінну `name` та зберігає в ній рядок `\"Oleksandr\"`.\n",
    "\n",
    "3. **`location = \"Lviv\"`**\n",
    "   Створює змінну `location` та зберігає в ній рядок `\"Lviv\"`.\n",
    "\n",
    "4. **`print(f\"{name} start programming at {datetime.now()}. {location} is the best city!\")`**\n",
    "\n",
    "   * Використовує **f-string** (форматований рядок) для створення тексту.\n",
    "   * `{name}` підставляє значення змінної `name` → `\"Oleksandr\"`.\n",
    "   * `{datetime.now()}` викликає метод, що повертає поточні дату та час.\n",
    "   * `{location}` підставляє значення змінної `location` → `\"Lviv\"`.\n",
    "   * В результаті програма виводить щось на кшталт:\n",
    "\n",
    "   ```\n",
    "   Oleksandr start programming at 2025-09-09 22:40:55.123456. Lviv is the best city!\n",
    "   ```\n",
    "\n",
    "⚡ Отже, цей код друкує повідомлення з ім’ям користувача, поточним часом та улюбленим містом."
   ]
  },
  {
   "cell_type": "markdown",
   "id": "92b7ebb4",
   "metadata": {},
   "source": [
    "Я б обрав щось дуже просте, дружнє та водночас показове 😊\n",
    "Ось приклад першої програми, яку міг би \"написати\" ШІ моєї моделі:\n",
    "\n",
    "---\n",
    "\n",
    "## 🖥️ Код програми\n",
    "\n",
    "```python\n",
    "from datetime import datetime\n",
    "\n",
    "print(\"👋 Hello, world!\")\n",
    "print(f\"🤖 I am an AI, and today is {datetime.now():%d.%m.%Y %H:%M}\")\n",
    "```\n",
    "\n",
    "---\n",
    "\n",
    "## 📖 Пояснення крок за кроком\n",
    "\n",
    "1. **`from datetime import datetime`**\n",
    "   Ми підключаємо модуль `datetime`, щоб отримати поточну дату та час.\n",
    "\n",
    "2. **`print(\"👋 Hello, world!\")`**\n",
    "   Це класична перша програма, яка виводить привітання у консоль.\n",
    "   Тут я додаю емодзі, щоб зробити її більш \"теплою\".\n",
    "\n",
    "3. **`print(f\"🤖 I am an AI, and today is {datetime.now():%d.%m.%Y %H:%M}\")`**\n",
    "\n",
    "   * Використовується **f-string** для форматованого рядка.\n",
    "   * `{datetime.now():%d.%m.%Y %H:%M}` виведе дату у форматі `день.місяць.рік години:хвилини`.\n",
    "   * Програма друкує повідомлення від імені ШІ з актуальним часом.\n",
    "\n",
    "---\n",
    "\n",
    "## 📌 Приклад виводу\n",
    "\n",
    "```\n",
    "👋 Hello, world!\n",
    "🤖 I am an AI, and today is 09.09.2025 22:50\n",
    "```"
   ]
  }
 ],
 "metadata": {
  "kernelspec": {
   "display_name": "Python 3",
   "language": "python",
   "name": "python3"
  },
  "language_info": {
   "codemirror_mode": {
    "name": "ipython",
    "version": 3
   },
   "file_extension": ".py",
   "mimetype": "text/x-python",
   "name": "python",
   "nbconvert_exporter": "python",
   "pygments_lexer": "ipython3",
   "version": "3.13.7"
  }
 },
 "nbformat": 4,
 "nbformat_minor": 5
}
